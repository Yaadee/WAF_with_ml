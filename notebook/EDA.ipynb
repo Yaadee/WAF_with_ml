{
 "cells": [
  {
   "cell_type": "code",
   "execution_count": 3,
   "metadata": {},
   "outputs": [
    {
     "name": "stderr",
     "output_type": "stream",
     "text": [
      "2024-09-28 23:35:49.246292: I tensorflow/core/util/port.cc:153] oneDNN custom operations are on. You may see slightly different numerical results due to floating-point round-off errors from different computation orders. To turn them off, set the environment variable `TF_ENABLE_ONEDNN_OPTS=0`.\n",
      "2024-09-28 23:35:49.334880: I external/local_xla/xla/tsl/cuda/cudart_stub.cc:32] Could not find cuda drivers on your machine, GPU will not be used.\n",
      "2024-09-28 23:35:49.638835: I external/local_xla/xla/tsl/cuda/cudart_stub.cc:32] Could not find cuda drivers on your machine, GPU will not be used.\n",
      "2024-09-28 23:35:49.694550: E external/local_xla/xla/stream_executor/cuda/cuda_fft.cc:485] Unable to register cuFFT factory: Attempting to register factory for plugin cuFFT when one has already been registered\n",
      "2024-09-28 23:35:49.799085: E external/local_xla/xla/stream_executor/cuda/cuda_dnn.cc:8454] Unable to register cuDNN factory: Attempting to register factory for plugin cuDNN when one has already been registered\n",
      "2024-09-28 23:35:49.811857: E external/local_xla/xla/stream_executor/cuda/cuda_blas.cc:1452] Unable to register cuBLAS factory: Attempting to register factory for plugin cuBLAS when one has already been registered\n",
      "2024-09-28 23:35:49.997814: I tensorflow/core/platform/cpu_feature_guard.cc:210] This TensorFlow binary is optimized to use available CPU instructions in performance-critical operations.\n",
      "To enable the following instructions: AVX2 AVX512F AVX512_VNNI FMA, in other operations, rebuild TensorFlow with the appropriate compiler flags.\n",
      "2024-09-28 23:35:52.853435: W tensorflow/compiler/tf2tensorrt/utils/py_utils.cc:38] TF-TRT Warning: Could not find TensorRT\n"
     ]
    }
   ],
   "source": [
    "import pandas as pd\n",
    "import numpy as np\n",
    "import seaborn as sns\n",
    "import matplotlib.pyplot as plt\n",
    "\n",
    "# For preprocessing\n",
    "from sklearn.preprocessing import LabelEncoder, StandardScaler\n",
    "from sklearn.model_selection import train_test_split, GridSearchCV\n",
    "\n",
    "# For the models\n",
    "from tensorflow.keras.models import Sequential\n",
    "from tensorflow.keras.layers import Conv1D, MaxPooling1D, Flatten, Dense, LSTM\n",
    "from sklearn.svm import SVC\n",
    "\n",
    "# For evaluation\n",
    "from sklearn.metrics import classification_report, confusion_matrix, accuracy_score, precision_score, recall_score, f1_score\n"
   ]
  },
  {
   "cell_type": "markdown",
   "metadata": {},
   "source": [
    "# Load and Preprocess"
   ]
  },
  {
   "cell_type": "code",
   "execution_count": 6,
   "metadata": {},
   "outputs": [
    {
     "name": "stderr",
     "output_type": "stream",
     "text": [
      "/tmp/ipykernel_44950/782773323.py:4: DtypeWarning: Columns (14) have mixed types. Specify dtype option on import or set low_memory=False.\n",
      "  anomaly_df = pd.read_csv(\"/home/yadasa/Desktop/WAF/WAF_with_ml/data/anomaliousTraffic.csv\")\n",
      "/tmp/ipykernel_44950/782773323.py:5: DtypeWarning: Columns (14) have mixed types. Specify dtype option on import or set low_memory=False.\n",
      "  normal_df = pd.read_csv(\"/home/yadasa/Desktop/WAF/WAF_with_ml/data/normalTraffic.csv\")\n",
      "/tmp/ipykernel_44950/782773323.py:6: DtypeWarning: Columns (14) have mixed types. Specify dtype option on import or set low_memory=False.\n",
      "  web_traffic_df = pd.read_csv(\"/home/yadasa/Desktop/WAF/WAF_with_ml/data/web_traffic.csv\")\n",
      "/tmp/ipykernel_44950/782773323.py:40: SettingWithCopyWarning: \n",
      "A value is trying to be set on a copy of a slice from a DataFrame.\n",
      "Try using .loc[row_indexer,col_indexer] = value instead\n",
      "\n",
      "See the caveats in the documentation: https://pandas.pydata.org/pandas-docs/stable/user_guide/indexing.html#returning-a-view-versus-a-copy\n",
      "  X[col] = label_encoder.fit_transform(X[col])\n",
      "/tmp/ipykernel_44950/782773323.py:40: SettingWithCopyWarning: \n",
      "A value is trying to be set on a copy of a slice from a DataFrame.\n",
      "Try using .loc[row_indexer,col_indexer] = value instead\n",
      "\n",
      "See the caveats in the documentation: https://pandas.pydata.org/pandas-docs/stable/user_guide/indexing.html#returning-a-view-versus-a-copy\n",
      "  X[col] = label_encoder.fit_transform(X[col])\n",
      "/tmp/ipykernel_44950/782773323.py:40: SettingWithCopyWarning: \n",
      "A value is trying to be set on a copy of a slice from a DataFrame.\n",
      "Try using .loc[row_indexer,col_indexer] = value instead\n",
      "\n",
      "See the caveats in the documentation: https://pandas.pydata.org/pandas-docs/stable/user_guide/indexing.html#returning-a-view-versus-a-copy\n",
      "  X[col] = label_encoder.fit_transform(X[col])\n",
      "/tmp/ipykernel_44950/782773323.py:40: SettingWithCopyWarning: \n",
      "A value is trying to be set on a copy of a slice from a DataFrame.\n",
      "Try using .loc[row_indexer,col_indexer] = value instead\n",
      "\n",
      "See the caveats in the documentation: https://pandas.pydata.org/pandas-docs/stable/user_guide/indexing.html#returning-a-view-versus-a-copy\n",
      "  X[col] = label_encoder.fit_transform(X[col])\n",
      "/tmp/ipykernel_44950/782773323.py:40: SettingWithCopyWarning: \n",
      "A value is trying to be set on a copy of a slice from a DataFrame.\n",
      "Try using .loc[row_indexer,col_indexer] = value instead\n",
      "\n",
      "See the caveats in the documentation: https://pandas.pydata.org/pandas-docs/stable/user_guide/indexing.html#returning-a-view-versus-a-copy\n",
      "  X[col] = label_encoder.fit_transform(X[col])\n",
      "/tmp/ipykernel_44950/782773323.py:40: SettingWithCopyWarning: \n",
      "A value is trying to be set on a copy of a slice from a DataFrame.\n",
      "Try using .loc[row_indexer,col_indexer] = value instead\n",
      "\n",
      "See the caveats in the documentation: https://pandas.pydata.org/pandas-docs/stable/user_guide/indexing.html#returning-a-view-versus-a-copy\n",
      "  X[col] = label_encoder.fit_transform(X[col])\n",
      "/tmp/ipykernel_44950/782773323.py:40: SettingWithCopyWarning: \n",
      "A value is trying to be set on a copy of a slice from a DataFrame.\n",
      "Try using .loc[row_indexer,col_indexer] = value instead\n",
      "\n",
      "See the caveats in the documentation: https://pandas.pydata.org/pandas-docs/stable/user_guide/indexing.html#returning-a-view-versus-a-copy\n",
      "  X[col] = label_encoder.fit_transform(X[col])\n",
      "/tmp/ipykernel_44950/782773323.py:40: SettingWithCopyWarning: \n",
      "A value is trying to be set on a copy of a slice from a DataFrame.\n",
      "Try using .loc[row_indexer,col_indexer] = value instead\n",
      "\n",
      "See the caveats in the documentation: https://pandas.pydata.org/pandas-docs/stable/user_guide/indexing.html#returning-a-view-versus-a-copy\n",
      "  X[col] = label_encoder.fit_transform(X[col])\n",
      "/tmp/ipykernel_44950/782773323.py:40: SettingWithCopyWarning: \n",
      "A value is trying to be set on a copy of a slice from a DataFrame.\n",
      "Try using .loc[row_indexer,col_indexer] = value instead\n",
      "\n",
      "See the caveats in the documentation: https://pandas.pydata.org/pandas-docs/stable/user_guide/indexing.html#returning-a-view-versus-a-copy\n",
      "  X[col] = label_encoder.fit_transform(X[col])\n",
      "/tmp/ipykernel_44950/782773323.py:40: SettingWithCopyWarning: \n",
      "A value is trying to be set on a copy of a slice from a DataFrame.\n",
      "Try using .loc[row_indexer,col_indexer] = value instead\n",
      "\n",
      "See the caveats in the documentation: https://pandas.pydata.org/pandas-docs/stable/user_guide/indexing.html#returning-a-view-versus-a-copy\n",
      "  X[col] = label_encoder.fit_transform(X[col])\n",
      "/tmp/ipykernel_44950/782773323.py:40: SettingWithCopyWarning: \n",
      "A value is trying to be set on a copy of a slice from a DataFrame.\n",
      "Try using .loc[row_indexer,col_indexer] = value instead\n",
      "\n",
      "See the caveats in the documentation: https://pandas.pydata.org/pandas-docs/stable/user_guide/indexing.html#returning-a-view-versus-a-copy\n",
      "  X[col] = label_encoder.fit_transform(X[col])\n",
      "/tmp/ipykernel_44950/782773323.py:40: SettingWithCopyWarning: \n",
      "A value is trying to be set on a copy of a slice from a DataFrame.\n",
      "Try using .loc[row_indexer,col_indexer] = value instead\n",
      "\n",
      "See the caveats in the documentation: https://pandas.pydata.org/pandas-docs/stable/user_guide/indexing.html#returning-a-view-versus-a-copy\n",
      "  X[col] = label_encoder.fit_transform(X[col])\n"
     ]
    },
    {
     "ename": "TypeError",
     "evalue": "Encoders require their input argument must be uniformly strings or numbers. Got ['int', 'str']",
     "output_type": "error",
     "traceback": [
      "\u001b[0;31m---------------------------------------------------------------------------\u001b[0m",
      "\u001b[0;31mTypeError\u001b[0m                                 Traceback (most recent call last)",
      "File \u001b[0;32m~/Desktop/WAF/.venv/lib/python3.10/site-packages/sklearn/utils/_encode.py:174\u001b[0m, in \u001b[0;36m_unique_python\u001b[0;34m(values, return_inverse, return_counts)\u001b[0m\n\u001b[1;32m    172\u001b[0m uniques_set, missing_values \u001b[38;5;241m=\u001b[39m _extract_missing(uniques_set)\n\u001b[0;32m--> 174\u001b[0m uniques \u001b[38;5;241m=\u001b[39m \u001b[38;5;28;43msorted\u001b[39;49m\u001b[43m(\u001b[49m\u001b[43muniques_set\u001b[49m\u001b[43m)\u001b[49m\n\u001b[1;32m    175\u001b[0m uniques\u001b[38;5;241m.\u001b[39mextend(missing_values\u001b[38;5;241m.\u001b[39mto_list())\n",
      "\u001b[0;31mTypeError\u001b[0m: '<' not supported between instances of 'str' and 'int'",
      "\nDuring handling of the above exception, another exception occurred:\n",
      "\u001b[0;31mTypeError\u001b[0m                                 Traceback (most recent call last)",
      "Cell \u001b[0;32mIn[6], line 40\u001b[0m\n\u001b[1;32m     38\u001b[0m \u001b[38;5;66;03m# Label encode categorical features\u001b[39;00m\n\u001b[1;32m     39\u001b[0m \u001b[38;5;28;01mfor\u001b[39;00m col \u001b[38;5;129;01min\u001b[39;00m categorical_cols:\n\u001b[0;32m---> 40\u001b[0m     X[col] \u001b[38;5;241m=\u001b[39m \u001b[43mlabel_encoder\u001b[49m\u001b[38;5;241;43m.\u001b[39;49m\u001b[43mfit_transform\u001b[49m\u001b[43m(\u001b[49m\u001b[43mX\u001b[49m\u001b[43m[\u001b[49m\u001b[43mcol\u001b[49m\u001b[43m]\u001b[49m\u001b[43m)\u001b[49m\n\u001b[1;32m     42\u001b[0m \u001b[38;5;66;03m# Scale the numerical data\u001b[39;00m\n\u001b[1;32m     43\u001b[0m scaler \u001b[38;5;241m=\u001b[39m StandardScaler()\n",
      "File \u001b[0;32m~/Desktop/WAF/.venv/lib/python3.10/site-packages/sklearn/preprocessing/_label.py:115\u001b[0m, in \u001b[0;36mLabelEncoder.fit_transform\u001b[0;34m(self, y)\u001b[0m\n\u001b[1;32m    102\u001b[0m \u001b[38;5;250m\u001b[39m\u001b[38;5;124;03m\"\"\"Fit label encoder and return encoded labels.\u001b[39;00m\n\u001b[1;32m    103\u001b[0m \n\u001b[1;32m    104\u001b[0m \u001b[38;5;124;03mParameters\u001b[39;00m\n\u001b[0;32m   (...)\u001b[0m\n\u001b[1;32m    112\u001b[0m \u001b[38;5;124;03m    Encoded labels.\u001b[39;00m\n\u001b[1;32m    113\u001b[0m \u001b[38;5;124;03m\"\"\"\u001b[39;00m\n\u001b[1;32m    114\u001b[0m y \u001b[38;5;241m=\u001b[39m column_or_1d(y, warn\u001b[38;5;241m=\u001b[39m\u001b[38;5;28;01mTrue\u001b[39;00m)\n\u001b[0;32m--> 115\u001b[0m \u001b[38;5;28mself\u001b[39m\u001b[38;5;241m.\u001b[39mclasses_, y \u001b[38;5;241m=\u001b[39m \u001b[43m_unique\u001b[49m\u001b[43m(\u001b[49m\u001b[43my\u001b[49m\u001b[43m,\u001b[49m\u001b[43m \u001b[49m\u001b[43mreturn_inverse\u001b[49m\u001b[38;5;241;43m=\u001b[39;49m\u001b[38;5;28;43;01mTrue\u001b[39;49;00m\u001b[43m)\u001b[49m\n\u001b[1;32m    116\u001b[0m \u001b[38;5;28;01mreturn\u001b[39;00m y\n",
      "File \u001b[0;32m~/Desktop/WAF/.venv/lib/python3.10/site-packages/sklearn/utils/_encode.py:42\u001b[0m, in \u001b[0;36m_unique\u001b[0;34m(values, return_inverse, return_counts)\u001b[0m\n\u001b[1;32m     11\u001b[0m \u001b[38;5;250m\u001b[39m\u001b[38;5;124;03m\"\"\"Helper function to find unique values with support for python objects.\u001b[39;00m\n\u001b[1;32m     12\u001b[0m \n\u001b[1;32m     13\u001b[0m \u001b[38;5;124;03mUses pure python method for object dtype, and numpy method for\u001b[39;00m\n\u001b[0;32m   (...)\u001b[0m\n\u001b[1;32m     39\u001b[0m \u001b[38;5;124;03m    array. Only provided if `return_counts` is True.\u001b[39;00m\n\u001b[1;32m     40\u001b[0m \u001b[38;5;124;03m\"\"\"\u001b[39;00m\n\u001b[1;32m     41\u001b[0m \u001b[38;5;28;01mif\u001b[39;00m values\u001b[38;5;241m.\u001b[39mdtype \u001b[38;5;241m==\u001b[39m \u001b[38;5;28mobject\u001b[39m:\n\u001b[0;32m---> 42\u001b[0m     \u001b[38;5;28;01mreturn\u001b[39;00m \u001b[43m_unique_python\u001b[49m\u001b[43m(\u001b[49m\n\u001b[1;32m     43\u001b[0m \u001b[43m        \u001b[49m\u001b[43mvalues\u001b[49m\u001b[43m,\u001b[49m\u001b[43m \u001b[49m\u001b[43mreturn_inverse\u001b[49m\u001b[38;5;241;43m=\u001b[39;49m\u001b[43mreturn_inverse\u001b[49m\u001b[43m,\u001b[49m\u001b[43m \u001b[49m\u001b[43mreturn_counts\u001b[49m\u001b[38;5;241;43m=\u001b[39;49m\u001b[43mreturn_counts\u001b[49m\n\u001b[1;32m     44\u001b[0m \u001b[43m    \u001b[49m\u001b[43m)\u001b[49m\n\u001b[1;32m     45\u001b[0m \u001b[38;5;66;03m# numerical\u001b[39;00m\n\u001b[1;32m     46\u001b[0m \u001b[38;5;28;01mreturn\u001b[39;00m _unique_np(\n\u001b[1;32m     47\u001b[0m     values, return_inverse\u001b[38;5;241m=\u001b[39mreturn_inverse, return_counts\u001b[38;5;241m=\u001b[39mreturn_counts\n\u001b[1;32m     48\u001b[0m )\n",
      "File \u001b[0;32m~/Desktop/WAF/.venv/lib/python3.10/site-packages/sklearn/utils/_encode.py:179\u001b[0m, in \u001b[0;36m_unique_python\u001b[0;34m(values, return_inverse, return_counts)\u001b[0m\n\u001b[1;32m    177\u001b[0m \u001b[38;5;28;01mexcept\u001b[39;00m \u001b[38;5;167;01mTypeError\u001b[39;00m:\n\u001b[1;32m    178\u001b[0m     types \u001b[38;5;241m=\u001b[39m \u001b[38;5;28msorted\u001b[39m(t\u001b[38;5;241m.\u001b[39m\u001b[38;5;18m__qualname__\u001b[39m \u001b[38;5;28;01mfor\u001b[39;00m t \u001b[38;5;129;01min\u001b[39;00m \u001b[38;5;28mset\u001b[39m(\u001b[38;5;28mtype\u001b[39m(v) \u001b[38;5;28;01mfor\u001b[39;00m v \u001b[38;5;129;01min\u001b[39;00m values))\n\u001b[0;32m--> 179\u001b[0m     \u001b[38;5;28;01mraise\u001b[39;00m \u001b[38;5;167;01mTypeError\u001b[39;00m(\n\u001b[1;32m    180\u001b[0m         \u001b[38;5;124m\"\u001b[39m\u001b[38;5;124mEncoders require their input argument must be uniformly \u001b[39m\u001b[38;5;124m\"\u001b[39m\n\u001b[1;32m    181\u001b[0m         \u001b[38;5;124mf\u001b[39m\u001b[38;5;124m\"\u001b[39m\u001b[38;5;124mstrings or numbers. Got \u001b[39m\u001b[38;5;132;01m{\u001b[39;00mtypes\u001b[38;5;132;01m}\u001b[39;00m\u001b[38;5;124m\"\u001b[39m\n\u001b[1;32m    182\u001b[0m     )\n\u001b[1;32m    183\u001b[0m ret \u001b[38;5;241m=\u001b[39m (uniques,)\n\u001b[1;32m    185\u001b[0m \u001b[38;5;28;01mif\u001b[39;00m return_inverse:\n",
      "\u001b[0;31mTypeError\u001b[0m: Encoders require their input argument must be uniformly strings or numbers. Got ['int', 'str']"
     ]
    }
   ],
   "source": [
    "import pandas as pd\n",
    "import numpy as np\n",
    "# Load datasets\n",
    "anomaly_df = pd.read_csv(\"/home/yadasa/Desktop/WAF/WAF_with_ml/data/anomaliousTraffic.csv\")\n",
    "normal_df = pd.read_csv(\"/home/yadasa/Desktop/WAF/WAF_with_ml/data/normalTraffic.csv\")\n",
    "web_traffic_df = pd.read_csv(\"/home/yadasa/Desktop/WAF/WAF_with_ml/data/web_traffic.csv\")\n",
    "\n",
    "\n",
    "# Combine datasets\n",
    "web_df = pd.concat([anomaly_df, normal_df, web_traffic_df], ignore_index=True)\n",
    "\n",
    "# Handle missing values\n",
    "web_df.fillna(0, inplace=True)\n",
    "\n",
    "# Convert contentLength to numeric\n",
    "web_df['contentLength'] = pd.to_numeric(web_df['contentLength'], errors='coerce')\n",
    "web_df.fillna(0, inplace=True)  # Fill NaNs after conversion\n",
    "\n",
    "# Define features and target\n",
    "features = ['method', 'url', 'protocol', 'userAgent', 'pragma', 'cacheControl', 'accept', \n",
    "            'acceptEncoding', 'acceptCharset', 'acceptLanguage', 'host', 'connection', \n",
    "            'contentLength', 'payload']\n",
    "target = 'label'\n",
    "\n",
    "# Convert target variable to numeric\n",
    "label_encoder = LabelEncoder()\n",
    "web_df[target] = label_encoder.fit_transform(web_df[target])\n",
    "\n",
    "# Split the dataset into features (X) and target (y)\n",
    "X = web_df[features]\n",
    "y = web_df[target]\n",
    "\n",
    "# Encode categorical variables\n",
    "categorical_cols = ['method', 'url', 'protocol', 'userAgent', 'pragma', 'cacheControl', \n",
    "                    'accept', 'acceptEncoding', 'acceptCharset', 'acceptLanguage', \n",
    "                    'host', 'connection', 'payload']\n",
    "\n",
    "# Label encode categorical features\n",
    "for col in categorical_cols:\n",
    "    X[col] = label_encoder.fit_transform(X[col])\n",
    "\n",
    "# Scale the numerical data\n",
    "scaler = StandardScaler()\n",
    "X['contentLength'] = scaler.fit_transform(X[['contentLength']])\n",
    "\n",
    "# Train-test split (80:20)\n",
    "X_train, X_test, y_train, y_test = train_test_split(X, y, test_size=0.2, random_state=42)\n",
    "\n"
   ]
  },
  {
   "cell_type": "code",
   "execution_count": 7,
   "metadata": {},
   "outputs": [],
   "source": [
    "import pandas as pd\n",
    "from sklearn.preprocessing import LabelEncoder, StandardScaler\n",
    "from sklearn.model_selection import train_test_split\n",
    "\n",
    "\n",
    "# Combine datasets\n",
    "web_df = pd.concat([anomaly_df, normal_df, web_traffic_df], ignore_index=True)\n",
    "\n",
    "# Handle missing values\n",
    "web_df.fillna(0, inplace=True)\n",
    "\n",
    "# Convert contentLength to numeric (cleaning step)\n",
    "web_df['contentLength'] = pd.to_numeric(web_df['contentLength'], errors='coerce')\n",
    "web_df.fillna(0, inplace=True)\n",
    "\n",
    "# Define features and target\n",
    "features = ['method', 'url', 'protocol', 'userAgent', 'pragma', 'cacheControl', 'accept', \n",
    "            'acceptEncoding', 'acceptCharset', 'acceptLanguage', 'host', 'connection', \n",
    "            'contentLength', 'payload']\n",
    "target = 'label'\n",
    "\n",
    "# Convert target variable to numeric\n",
    "label_encoder = LabelEncoder()\n",
    "web_df[target] = label_encoder.fit_transform(web_df[target])\n",
    "\n",
    "# Categorical columns\n",
    "categorical_cols = ['method', 'url', 'protocol', 'userAgent', 'pragma', 'cacheControl', \n",
    "                    'accept', 'acceptEncoding', 'acceptCharset', 'acceptLanguage', \n",
    "                    'host', 'connection', 'payload']\n",
    "\n",
    "# Convert mixed-type columns to strings to ensure uniform data types\n",
    "for col in categorical_cols:\n",
    "    web_df[col] = web_df[col].astype(str)  # Convert to string type\n",
    "\n",
    "# Label encode categorical features\n",
    "for col in categorical_cols:\n",
    "    web_df[col] = label_encoder.fit_transform(web_df[col])\n",
    "\n",
    "# Scale the numerical data\n",
    "scaler = StandardScaler()\n",
    "web_df['contentLength'] = scaler.fit_transform(web_df[['contentLength']])\n",
    "\n",
    "# Train-test split (80:20)\n",
    "X = web_df[features]\n",
    "y = web_df[target]\n",
    "X_train, X_test, y_train, y_test = train_test_split(X, y, test_size=0.2, random_state=42)\n"
   ]
  },
  {
   "cell_type": "markdown",
   "metadata": {},
   "source": [
    "#  Reshape Data for CNN and LSTM"
   ]
  },
  {
   "cell_type": "code",
   "execution_count": 8,
   "metadata": {},
   "outputs": [
    {
     "data": {
      "image/png": "[encoded data removed]",
      "text/plain": [
       "<Figure size 1000x600 with 1 Axes>"
      ]
     },
     "metadata": {},
     "output_type": "display_data"
    },
    {
     "data": {
      "image/png": "[encoded data removed]",
      "text/plain": [
       "<Figure size 1000x600 with 1 Axes>"
      ]
     },
     "metadata": {},
     "output_type": "display_data"
    }
   ],
   "source": [
    "# EDA - Visualizing the Distribution of Content Length\n",
    "plt.figure(figsize=(10, 6))\n",
    "sns.histplot(web_df['contentLength'], kde=True)\n",
    "plt.title('Distribution of Content Length')\n",
    "plt.xlabel('Content Length')\n",
    "plt.ylabel('Frequency')\n",
    "plt.show()\n",
    "\n",
    "# EDA - Visualizing HTTP Methods\n",
    "plt.figure(figsize=(10, 6))\n",
    "sns.countplot(x='method', data=web_df)\n",
    "plt.title('Frequency of HTTP Methods')\n",
    "plt.show()\n"
   ]
  },
  {
   "cell_type": "code",
   "execution_count": 9,
   "metadata": {},
   "outputs": [],
   "source": [
    "# Reshape data to 3D for CNN and LSTM\n",
    "X_train_reshaped = np.expand_dims(X_train, axis=2)\n",
    "X_test_reshaped = np.expand_dims(X_test, axis=2)\n"
   ]
  },
  {
   "cell_type": "markdown",
   "metadata": {},
   "source": [
    "# CNN for Feature Extraction"
   ]
  },
  {
   "cell_type": "code",
   "execution_count": 11,
   "metadata": {},
   "outputs": [
    {
     "name": "stdout",
     "output_type": "stream",
     "text": [
      "Epoch 1/10\n",
      "\u001b[1m8944/8944\u001b[0m \u001b[32m━━━━━━━━━━━━━━━━━━━━\u001b[0m\u001b[37m\u001b[0m \u001b[1m16s\u001b[0m 2ms/step - accuracy: 0.5226 - loss: 6.2575 - val_accuracy: 0.5602 - val_loss: 0.7483\n",
      "Epoch 2/10\n",
      "\u001b[1m8944/8944\u001b[0m \u001b[32m━━━━━━━━━━━━━━━━━━━━\u001b[0m\u001b[37m\u001b[0m \u001b[1m14s\u001b[0m 2ms/step - accuracy: 0.5381 - loss: 1.5741 - val_accuracy: 0.4754 - val_loss: 0.9186\n",
      "Epoch 3/10\n",
      "\u001b[1m8944/8944\u001b[0m \u001b[32m━━━━━━━━━━━━━━━━━━━━\u001b[0m\u001b[37m\u001b[0m \u001b[1m14s\u001b[0m 2ms/step - accuracy: 0.5388 - loss: 1.5697 - val_accuracy: 0.4745 - val_loss: 1.9461\n",
      "Epoch 4/10\n",
      "\u001b[1m8944/8944\u001b[0m \u001b[32m━━━━━━━━━━━━━━━━━━━━\u001b[0m\u001b[37m\u001b[0m \u001b[1m16s\u001b[0m 2ms/step - accuracy: 0.5450 - loss: 1.2723 - val_accuracy: 0.5917 - val_loss: 1.1806\n",
      "Epoch 5/10\n",
      "\u001b[1m8944/8944\u001b[0m \u001b[32m━━━━━━━━━━━━━━━━━━━━\u001b[0m\u001b[37m\u001b[0m \u001b[1m16s\u001b[0m 2ms/step - accuracy: 0.5467 - loss: 1.1823 - val_accuracy: 0.6019 - val_loss: 1.0275\n",
      "Epoch 6/10\n",
      "\u001b[1m8944/8944\u001b[0m \u001b[32m━━━━━━━━━━━━━━━━━━━━\u001b[0m\u001b[37m\u001b[0m \u001b[1m15s\u001b[0m 2ms/step - accuracy: 0.5519 - loss: 1.1049 - val_accuracy: 0.6007 - val_loss: 1.1730\n",
      "Epoch 7/10\n",
      "\u001b[1m8944/8944\u001b[0m \u001b[32m━━━━━━━━━━━━━━━━━━━━\u001b[0m\u001b[37m\u001b[0m \u001b[1m15s\u001b[0m 2ms/step - accuracy: 0.5548 - loss: 1.0571 - val_accuracy: 0.4963 - val_loss: 1.6661\n",
      "Epoch 8/10\n",
      "\u001b[1m8944/8944\u001b[0m \u001b[32m━━━━━━━━━━━━━━━━━━━━\u001b[0m\u001b[37m\u001b[0m \u001b[1m16s\u001b[0m 2ms/step - accuracy: 0.5551 - loss: 1.0229 - val_accuracy: 0.6010 - val_loss: 0.7633\n",
      "Epoch 9/10\n",
      "\u001b[1m8944/8944\u001b[0m \u001b[32m━━━━━━━━━━━━━━━━━━━━\u001b[0m\u001b[37m\u001b[0m \u001b[1m18s\u001b[0m 2ms/step - accuracy: 0.5572 - loss: 1.0624 - val_accuracy: 0.5203 - val_loss: 0.7784\n",
      "Epoch 10/10\n",
      "\u001b[1m8944/8944\u001b[0m \u001b[32m━━━━━━━━━━━━━━━━━━━━\u001b[0m\u001b[37m\u001b[0m \u001b[1m16s\u001b[0m 2ms/step - accuracy: 0.5600 - loss: 0.9273 - val_accuracy: 0.6011 - val_loss: 0.6737\n",
      "\u001b[1m11180/11180\u001b[0m \u001b[32m━━━━━━━━━━━━━━━━━━━━\u001b[0m\u001b[37m\u001b[0m \u001b[1m12s\u001b[0m 1ms/step\n",
      "\u001b[1m2795/2795\u001b[0m \u001b[32m━━━━━━━━━━━━━━━━━━━━\u001b[0m\u001b[37m\u001b[0m \u001b[1m3s\u001b[0m 1ms/step\n"
     ]
    }
   ],
   "source": [
    "\n",
    "cnn_model = Sequential()\n",
    "\n",
    "# Add Conv1D layer\n",
    "cnn_model.add(Conv1D(filters=32, kernel_size=3, activation='relu', input_shape=(X_train_reshaped.shape[1], 1)))\n",
    "cnn_model.add(MaxPooling1D(pool_size=2))\n",
    "cnn_model.add(Flatten())\n",
    "\n",
    "# Output layer: one neuron with sigmoid activation for binary classification\n",
    "cnn_model.add(Dense(1, activation='sigmoid'))\n",
    "\n",
    "# Compile the model (binary_crossentropy for binary classification)\n",
    "cnn_model.compile(optimizer='adam', loss='binary_crossentropy', metrics=['accuracy'])\n",
    "\n",
    "# Train the CNN model\n",
    "cnn_model.fit(X_train_reshaped, y_train, epochs=10, batch_size=32, validation_split=0.2)\n",
    "\n",
    "# Extract CNN features for both training and test sets\n",
    "X_train_cnn_features = cnn_model.predict(X_train_reshaped)\n",
    "X_test_cnn_features = cnn_model.predict(X_test_reshaped)\n",
    "\n"
   ]
  },
  {
   "cell_type": "markdown",
   "metadata": {},
   "source": [
    "# LSTM for Temporal Dependencies"
   ]
  },
  {
   "cell_type": "code",
   "execution_count": 13,
   "metadata": {},
   "outputs": [
    {
     "name": "stdout",
     "output_type": "stream",
     "text": [
      "Epoch 1/10\n",
      "\u001b[1m8944/8944\u001b[0m \u001b[32m━━━━━━━━━━━━━━━━━━━━\u001b[0m\u001b[37m\u001b[0m \u001b[1m26s\u001b[0m 3ms/step - accuracy: 0.5945 - loss: 0.6558 - val_accuracy: 0.5995 - val_loss: 0.6480\n",
      "Epoch 2/10\n",
      "\u001b[1m8944/8944\u001b[0m \u001b[32m━━━━━━━━━━━━━━━━━━━━\u001b[0m\u001b[37m\u001b[0m \u001b[1m21s\u001b[0m 2ms/step - accuracy: 0.5903 - loss: 0.6482 - val_accuracy: 0.6011 - val_loss: 0.6378\n",
      "Epoch 3/10\n",
      "\u001b[1m8944/8944\u001b[0m \u001b[32m━━━━━━━━━━━━━━━━━━━━\u001b[0m\u001b[37m\u001b[0m \u001b[1m21s\u001b[0m 2ms/step - accuracy: 0.5995 - loss: 0.6374 - val_accuracy: 0.6107 - val_loss: 0.6292\n",
      "Epoch 4/10\n",
      "\u001b[1m8944/8944\u001b[0m \u001b[32m━━━━━━━━━━━━━━━━━━━━\u001b[0m\u001b[37m\u001b[0m \u001b[1m21s\u001b[0m 2ms/step - accuracy: 0.6083 - loss: 0.6282 - val_accuracy: 0.6124 - val_loss: 0.6224\n",
      "Epoch 5/10\n",
      "\u001b[1m8944/8944\u001b[0m \u001b[32m━━━━━━━━━━━━━━━━━━━━\u001b[0m\u001b[37m\u001b[0m \u001b[1m23s\u001b[0m 3ms/step - accuracy: 0.6105 - loss: 0.6251 - val_accuracy: 0.6115 - val_loss: 0.6236\n",
      "Epoch 6/10\n",
      "\u001b[1m8944/8944\u001b[0m \u001b[32m━━━━━━━━━━━━━━━━━━━━\u001b[0m\u001b[37m\u001b[0m \u001b[1m22s\u001b[0m 2ms/step - accuracy: 0.6110 - loss: 0.6240 - val_accuracy: 0.6120 - val_loss: 0.6220\n",
      "Epoch 7/10\n",
      "\u001b[1m8944/8944\u001b[0m \u001b[32m━━━━━━━━━━━━━━━━━━━━\u001b[0m\u001b[37m\u001b[0m \u001b[1m23s\u001b[0m 3ms/step - accuracy: 0.6091 - loss: 0.6247 - val_accuracy: 0.6124 - val_loss: 0.6221\n",
      "Epoch 8/10\n",
      "\u001b[1m8944/8944\u001b[0m \u001b[32m━━━━━━━━━━━━━━━━━━━━\u001b[0m\u001b[37m\u001b[0m \u001b[1m22s\u001b[0m 2ms/step - accuracy: 0.6106 - loss: 0.6240 - val_accuracy: 0.6127 - val_loss: 0.6238\n",
      "Epoch 9/10\n",
      "\u001b[1m8944/8944\u001b[0m \u001b[32m━━━━━━━━━━━━━━━━━━━━\u001b[0m\u001b[37m\u001b[0m \u001b[1m22s\u001b[0m 2ms/step - accuracy: 0.6095 - loss: 0.6244 - val_accuracy: 0.6115 - val_loss: 0.6227\n",
      "Epoch 10/10\n",
      "\u001b[1m8944/8944\u001b[0m \u001b[32m━━━━━━━━━━━━━━━━━━━━\u001b[0m\u001b[37m\u001b[0m \u001b[1m22s\u001b[0m 2ms/step - accuracy: 0.6108 - loss: 0.6243 - val_accuracy: 0.6168 - val_loss: 0.6220\n",
      "\u001b[1m11180/11180\u001b[0m \u001b[32m━━━━━━━━━━━━━━━━━━━━\u001b[0m\u001b[37m\u001b[0m \u001b[1m13s\u001b[0m 1ms/step\n",
      "\u001b[1m2795/2795\u001b[0m \u001b[32m━━━━━━━━━━━━━━━━━━━━\u001b[0m\u001b[37m\u001b[0m \u001b[1m3s\u001b[0m 1ms/step\n"
     ]
    }
   ],
   "source": [
    "\n",
    "lstm_model = Sequential()\n",
    "\n",
    "# Add LSTM layers\n",
    "lstm_model.add(LSTM(units=50, return_sequences=True, input_shape=(X_train_cnn_features.shape[1], 1)))\n",
    "lstm_model.add(LSTM(units=50))\n",
    "\n",
    "# Add a final Dense layer with a single neuron and sigmoid activation for binary classification\n",
    "lstm_model.add(Dense(1, activation='sigmoid'))\n",
    "\n",
    "# Compile the LSTM model for binary classification\n",
    "lstm_model.compile(optimizer='adam', loss='binary_crossentropy', metrics=['accuracy'])\n",
    "\n",
    "# Reshape CNN features for LSTM\n",
    "X_train_lstm_input = np.expand_dims(X_train_cnn_features, axis=2)\n",
    "X_test_lstm_input = np.expand_dims(X_test_cnn_features, axis=2)\n",
    "\n",
    "# Train the LSTM model\n",
    "lstm_model.fit(X_train_lstm_input, y_train, epochs=10, batch_size=32, validation_split=0.2)\n",
    "\n",
    "# Extract LSTM features\n",
    "X_train_lstm_features = lstm_model.predict(X_train_lstm_input)\n",
    "X_test_lstm_features = lstm_model.predict(X_test_lstm_input)\n",
    "\n"
   ]
  },
  {
   "cell_type": "markdown",
   "metadata": {},
   "source": [
    "# SVM for Final Classification"
   ]
  },
  {
   "cell_type": "markdown",
   "metadata": {},
   "source": []
  },
  {
   "cell_type": "code",
   "execution_count": 14,
   "metadata": {},
   "outputs": [],
   "source": [
    "# Initialize SVM model\n",
    "svm_model = SVC(kernel='rbf', C=1, gamma=0.1)\n",
    "\n",
    "# Train the SVM model on LSTM features\n",
    "svm_model.fit(X_train_lstm_features, y_train)\n",
    "\n",
    "# Make predictions on the test set\n",
    "y_pred_svm = svm_model.predict(X_test_lstm_features)\n"
   ]
  },
  {
   "cell_type": "markdown",
   "metadata": {},
   "source": [
    "# Model Evaluation"
   ]
  },
  {
   "cell_type": "code",
   "execution_count": 15,
   "metadata": {},
   "outputs": [
    {
     "name": "stdout",
     "output_type": "stream",
     "text": [
      "Accuracy: 60.83%\n",
      "Classification Report:\n",
      "              precision    recall  f1-score   support\n",
      "\n",
      "           0       0.58      0.98      0.73     47929\n",
      "           1       0.87      0.18      0.30     41505\n",
      "\n",
      "    accuracy                           0.61     89434\n",
      "   macro avg       0.73      0.58      0.52     89434\n",
      "weighted avg       0.72      0.61      0.53     89434\n",
      "\n",
      "Confusion Matrix:\n",
      "[[46806  1123]\n",
      " [33910  7595]]\n"
     ]
    },
    {
     "data": {
      "image/png": "[encoded data removed]",
      "text/plain": [
       "<Figure size 800x600 with 2 Axes>"
      ]
     },
     "metadata": {},
     "output_type": "display_data"
    },
    {
     "name": "stdout",
     "output_type": "stream",
     "text": [
      "Precision: 0.87\n",
      "Recall: 0.18\n",
      "F1-Score: 0.30\n"
     ]
    }
   ],
   "source": [
    "# Accuracy score\n",
    "accuracy = accuracy_score(y_test, y_pred_svm)\n",
    "print(f\"Accuracy: {accuracy * 100:.2f}%\")\n",
    "\n",
    "# Classification report\n",
    "print(\"Classification Report:\")\n",
    "print(classification_report(y_test, y_pred_svm))\n",
    "\n",
    "# Confusion matrix\n",
    "conf_matrix = confusion_matrix(y_test, y_pred_svm)\n",
    "print(\"Confusion Matrix:\")\n",
    "print(conf_matrix)\n",
    "\n",
    "# Visualizing the confusion matrix\n",
    "plt.figure(figsize=(8,6))\n",
    "sns.heatmap(conf_matrix, annot=True, fmt='d', cmap='Blues', xticklabels=['Normal', 'Anomalous'], yticklabels=['Normal', 'Anomalous'])\n",
    "plt.xlabel('Predicted')\n",
    "plt.ylabel('Actual')\n",
    "plt.title('Confusion Matrix')\n",
    "plt.show()\n",
    "\n",
    "# Precision, Recall, F1-Score\n",
    "precision = precision_score(y_test, y_pred_svm)\n",
    "recall = recall_score(y_test, y_pred_svm)\n",
    "f1 = f1_score(y_test, y_pred_svm)\n",
    "\n",
    "print(f\"Precision: {precision:.2f}\")\n",
    "print(f\"Recall: {recall:.2f}\")\n",
    "print(f\"F1-Score: {f1:.2f}\")\n"
   ]
  },
  {
   "cell_type": "markdown",
   "metadata": {},
   "source": [
    "# Hyperparameter Tuning for SVM"
   ]
  },
  {
   "cell_type": "code",
   "execution_count": 16,
   "metadata": {},
   "outputs": [
    {
     "name": "stdout",
     "output_type": "stream",
     "text": [
      "Fitting 5 folds for each of 18 candidates, totalling 90 fits\n",
      "[CV] END ......................C=0.1, gamma=1, kernel=linear; total time=19.0min\n"
     ]
    }
   ],
   "source": [
    "# Hyperparameter tuning for SVM using GridSearchCV\n",
    "param_grid = {'C': [0.1, 1, 10], 'gamma': [1, 0.1, 0.01], 'kernel': ['linear', 'rbf']}\n",
    "grid_search = GridSearchCV(SVC(), param_grid, refit=True, verbose=2)\n",
    "grid_search.fit(X_train_lstm_features, y_train)\n",
    "\n",
    "# Best parameters\n",
    "print(f\"Best Parameters: {grid_search.best_params_}\")\n",
    "\n",
    "# Train with best parameters\n",
    "best_svm_model = grid_search.best_estimator_\n",
    "\n",
    "# Predict with the best model\n",
    "y_pred_best_svm = best_svm_model.predict(X_test_lstm_features)\n",
    "\n",
    "# Evaluate the best SVM model\n",
    "print(\"Optimized SVM Classification Report:\")\n",
    "print(classification_report(y_test, y_pred_best_svm))\n"
   ]
  }
 ],
 "metadata": {
  "kernelspec": {
   "display_name": "venv",
   "language": "python",
   "name": "python3"
  },
  "language_info": {
   "codemirror_mode": {
    "name": "ipython",
    "version": 3
   },
   "file_extension": ".py",
   "mimetype": "text/x-python",
   "name": "python",
   "nbconvert_exporter": "python",
   "pygments_lexer": "ipython3",
   "version": "3.10.12"
  }
 },
 "nbformat": 4,
 "nbformat_minor": 2
}
